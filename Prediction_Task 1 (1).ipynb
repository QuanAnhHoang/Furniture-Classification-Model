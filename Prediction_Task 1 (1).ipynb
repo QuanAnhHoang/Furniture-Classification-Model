{
 "cells": [
  {
   "cell_type": "code",
   "execution_count": 1,
   "id": "231bcb74-14e4-412a-914d-c656f12db4bd",
   "metadata": {},
   "outputs": [
    {
     "ename": "ModuleNotFoundError",
     "evalue": "No module named 'cv2'",
     "output_type": "error",
     "traceback": [
      "\u001b[1;31m---------------------------------------------------------------------------\u001b[0m",
      "\u001b[1;31mModuleNotFoundError\u001b[0m                       Traceback (most recent call last)",
      "Cell \u001b[1;32mIn[1], line 8\u001b[0m\n\u001b[0;32m      5\u001b[0m \u001b[38;5;28;01mfrom\u001b[39;00m \u001b[38;5;21;01mtensorflow\u001b[39;00m \u001b[38;5;28;01mimport\u001b[39;00m keras\n\u001b[0;32m      7\u001b[0m \u001b[38;5;28;01mimport\u001b[39;00m \u001b[38;5;21;01mos\u001b[39;00m\n\u001b[1;32m----> 8\u001b[0m \u001b[38;5;28;01mimport\u001b[39;00m \u001b[38;5;21;01mcv2\u001b[39;00m\n\u001b[0;32m     10\u001b[0m \u001b[38;5;28;01mimport\u001b[39;00m \u001b[38;5;21;01mwarnings\u001b[39;00m\n\u001b[0;32m     11\u001b[0m warnings\u001b[38;5;241m.\u001b[39mfilterwarnings(\u001b[38;5;124m\"\u001b[39m\u001b[38;5;124mignore\u001b[39m\u001b[38;5;124m\"\u001b[39m)\n",
      "\u001b[1;31mModuleNotFoundError\u001b[0m: No module named 'cv2'"
     ]
    }
   ],
   "source": [
    "import pandas as pd\n",
    "import numpy as np\n",
    "from matplotlib import pyplot as plt\n",
    "import tensorflow as tf\n",
    "from tensorflow import keras\n",
    "\n",
    "import os\n",
    "import cv2\n",
    "\n",
    "import warnings\n",
    "warnings.filterwarnings(\"ignore\")\n",
    "\n",
    "import sys\n",
    "print(\"Python Version: \", sys.version)\n",
    "print(\"TensorFlow Version: \", tf.__version__)\n",
    "\n",
    "BATCH_SIZE = 32\n",
    "IMG_WIDTH  = 224\n",
    "IMG_HEIGHT = 224\n",
    "IMAGE_SHOW = 100\n",
    "\n",
    "%matplotlib inline\n",
    "os.environ['KMP_DUPLICATE_LIB_OK']='True'"
   ]
  },
  {
   "cell_type": "code",
   "execution_count": null,
   "id": "60f75849-454b-46f0-af05-6fa87782df83",
   "metadata": {},
   "outputs": [],
   "source": [
    "# load model\n",
    "model = keras.models.load_model(\"../TrainingModels/furniture_cat_classification_model.h5\")"
   ]
  },
  {
   "cell_type": "code",
   "execution_count": null,
   "id": "44225a91-8662-4a6a-b8ce-ea2212a9dd34",
   "metadata": {},
   "outputs": [],
   "source": [
    "# using GPU for faster processing\n",
    "\n",
    "phys_devices = tf.config.list_physical_devices('GPU')\n",
    "if len(phys_devices) > 0:\n",
    "    # use the first visible GPU\n",
    "    tf.config.experimental.set_visible_devices(phys_devices[0], 'GPU')\n",
    "    print(f\"Using GPU device {phys_devices[0].name}\\n\")\n",
    "else:\n",
    "    print(\"No GPU devices found!\\n\")\n",
    "\n",
    "if tf.config.list_physical_devices('GPU'):\n",
    "    print(\"GPU is available\")\n",
    "else:\n",
    "    print(\"GPU is not available\")"
   ]
  },
  {
   "cell_type": "code",
   "execution_count": null,
   "id": "d55a11c2-8f59-4232-ac92-514f75a3f2d0",
   "metadata": {},
   "outputs": [],
   "source": [
    "furniture_df = pd.read_csv(\"../furniture_data.csv\")\n",
    "# shuffle the rows randomly and reset the index\n",
    "shuffled_furniture_df = furniture_df.sample(frac = 1).reset_index(drop = True)\n",
    "\n",
    "shuffled_furniture_df.head()"
   ]
  },
  {
   "cell_type": "code",
   "execution_count": null,
   "id": "345413cf-c12d-4c16-9147-fc75f6279dea",
   "metadata": {},
   "outputs": [],
   "source": [
    "# prepare the test dataset\n",
    "def prepare(filepath):\n",
    "    image_arr = cv2.cvtColor(cv2.imread(filepath), cv2.COLOR_BGR2RGB)\n",
    "    # resize image\n",
    "    new_arr = cv2.resize(image_arr, (IMG_WIDTH, IMG_HEIGHT))\n",
    "    return np.expand_dims(new_arr, axis = 0).repeat(BATCH_SIZE, axis = 0)\n",
    "\n",
    "# empty list for test images\n",
    "image_test_list = []\n",
    "\n",
    "# add image for prediction testing\n",
    "for i in range(IMAGE_SHOW):\n",
    "     # get the file path for the i-th image\n",
    "    first_data = shuffled_furniture_df.iloc[i]['Image_Path']\n",
    "    image_arr = prepare(first_data)\n",
    "    image_test_list.append(image_arr)\n",
    "\n",
    "# check image after process\n",
    "plt.imshow(img_test_list[19][0])"
   ]
  },
  {
   "cell_type": "code",
   "execution_count": null,
   "id": "dad364da-0406-419f-89a6-712ae30454c1",
   "metadata": {},
   "outputs": [],
   "source": [
    "cat_folders = furniture_df[\"Furniture_Category\"].unique()\n",
    "cat_folders"
   ]
  },
  {
   "cell_type": "code",
   "execution_count": null,
   "id": "1bda4758-9d31-4e9e-b4a7-e7f825a08798",
   "metadata": {},
   "outputs": [],
   "source": [
    "# single prediction\n",
    "index = 19\n",
    "first_data = shuffled_furniture_df.iloc[index]['Image_Path']\n",
    "image_arr = prepare(first_data)\n",
    "\n",
    "prediction = model.predict(image_arr)\n",
    "predicted_class_index = np.argmax(prediction, axis = 1)\n",
    "\n",
    "# retrieve class label\n",
    "predicted_class_label = cat_folders[predicted_class_index[0]]\n",
    "\n",
    "# display classifying result\n",
    "print('Prediction: ' + predicted_class_label)\n",
    "print('Actual: ' + shuffled_furniture_df.iloc[index]['Furniture_Category'])\n"
   ]
  },
  {
   "cell_type": "code",
   "execution_count": null,
   "id": "fb667628-9f94-47f5-a2de-b7fcf4d23798",
   "metadata": {},
   "outputs": [],
   "source": [
    "#  multiple prediction\n",
    "num_rows = (IMAGE_SHOW + 4) // 5\n",
    "num_cols = min(IMAGE_SHOW, 5)\n",
    "# empty list to store predictions and count correct predictions\n",
    "predicted_result = []\n",
    "correct = 0\n",
    "\n",
    "fig, axes = plt.subplots(nrows = num_rows, ncols = num_cols, figsize = (16, 4 * num_rows))\n",
    "\n",
    "def final_prediction(item1, item2):\n",
    "    # test prediction\n",
    "    return \"Correct\" if item1 == item2 else \"Wrong\"\n",
    "\n",
    "# iterate through the image table\n",
    "for i, ax in enumerate(axes.flat):\n",
    "    # make predictions for the i-th image\n",
    "    prediction = model.predict(image_test_list[i])\n",
    "    predicted_class_label = cat_folders[np.argmax(prediction, axis = 1)[0]]\n",
    "    predicted_result.append(predicted_class_label)\n",
    "\n",
    "     # display the image\n",
    "    ax.imshow(image_test_list[i][0])\n",
    "    color = 'green' if predicted_result[i] == shuffled_furniture_df.loc[i, 'Furniture_Category'] else 'red'\n",
    "    ax.set_title('Prediction: { }\\n Actual: {}\\n -- { } --'.format(predicted_result[i], \n",
    "                  shuffled_furniture_df.loc[i, 'Furniture_Category'], \n",
    "                  final_prediction(predicted_result[i], shuffled_furniture_df.loc[i, 'Furniture_Category'])), color = color)\n",
    "    correct += (predicted_result[i] == shuffled_furniture_df.loc[i, 'Furniture_Category'])\n",
    "\n",
    "plt.tight_layout()\n",
    "plt.show()\n",
    "\n",
    "print(f\"Total correct predictions: {correct}/{IMAGE_SHOW}\")\n",
    "print(f\"Percentage of correct predictions: {(correct * 100) / IMAGE_SHOW}%\")"
   ]
  },
  {
   "cell_type": "code",
   "execution_count": null,
   "id": "e87bb6f2-1e03-49fb-942e-394f001da971",
   "metadata": {},
   "outputs": [],
   "source": []
  }
 ],
 "metadata": {
  "kernelspec": {
   "display_name": "Python 3 (ipykernel)",
   "language": "python",
   "name": "python3"
  },
  "language_info": {
   "codemirror_mode": {
    "name": "ipython",
    "version": 3
   },
   "file_extension": ".py",
   "mimetype": "text/x-python",
   "name": "python",
   "nbconvert_exporter": "python",
   "pygments_lexer": "ipython3",
   "version": "3.11.7"
  }
 },
 "nbformat": 4,
 "nbformat_minor": 5
}
