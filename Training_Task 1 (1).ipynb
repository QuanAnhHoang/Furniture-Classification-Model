{
 "cells": [
  {
   "cell_type": "code",
   "execution_count": 1,
   "id": "0918e8a4-5600-4ef4-8ed5-e9c3c3ef7ae4",
   "metadata": {},
   "outputs": [
    {
     "name": "stdout",
     "output_type": "stream",
     "text": [
      "Requirement already satisfied: tensorflow in c:\\users\\admin\\anaconda\\lib\\site-packages (2.16.1)\n",
      "Requirement already satisfied: tensorflow-intel==2.16.1 in c:\\users\\admin\\anaconda\\lib\\site-packages (from tensorflow) (2.16.1)\n",
      "Requirement already satisfied: absl-py>=1.0.0 in c:\\users\\admin\\anaconda\\lib\\site-packages (from tensorflow-intel==2.16.1->tensorflow) (2.1.0)\n",
      "Requirement already satisfied: astunparse>=1.6.0 in c:\\users\\admin\\anaconda\\lib\\site-packages (from tensorflow-intel==2.16.1->tensorflow) (1.6.3)\n",
      "Requirement already satisfied: flatbuffers>=23.5.26 in c:\\users\\admin\\anaconda\\lib\\site-packages (from tensorflow-intel==2.16.1->tensorflow) (24.3.25)\n",
      "Requirement already satisfied: gast!=0.5.0,!=0.5.1,!=0.5.2,>=0.2.1 in c:\\users\\admin\\anaconda\\lib\\site-packages (from tensorflow-intel==2.16.1->tensorflow) (0.5.4)\n",
      "Requirement already satisfied: google-pasta>=0.1.1 in c:\\users\\admin\\anaconda\\lib\\site-packages (from tensorflow-intel==2.16.1->tensorflow) (0.2.0)\n",
      "Requirement already satisfied: h5py>=3.10.0 in c:\\users\\admin\\anaconda\\lib\\site-packages (from tensorflow-intel==2.16.1->tensorflow) (3.11.0)\n",
      "Requirement already satisfied: libclang>=13.0.0 in c:\\users\\admin\\anaconda\\lib\\site-packages (from tensorflow-intel==2.16.1->tensorflow) (18.1.1)\n",
      "Requirement already satisfied: ml-dtypes~=0.3.1 in c:\\users\\admin\\anaconda\\lib\\site-packages (from tensorflow-intel==2.16.1->tensorflow) (0.3.2)\n",
      "Requirement already satisfied: opt-einsum>=2.3.2 in c:\\users\\admin\\anaconda\\lib\\site-packages (from tensorflow-intel==2.16.1->tensorflow) (3.3.0)\n",
      "Requirement already satisfied: packaging in c:\\users\\admin\\anaconda\\lib\\site-packages (from tensorflow-intel==2.16.1->tensorflow) (23.1)\n",
      "Requirement already satisfied: protobuf!=4.21.0,!=4.21.1,!=4.21.2,!=4.21.3,!=4.21.4,!=4.21.5,<5.0.0dev,>=3.20.3 in c:\\users\\admin\\anaconda\\lib\\site-packages (from tensorflow-intel==2.16.1->tensorflow) (3.20.3)\n",
      "Requirement already satisfied: requests<3,>=2.21.0 in c:\\users\\admin\\anaconda\\lib\\site-packages (from tensorflow-intel==2.16.1->tensorflow) (2.31.0)\n",
      "Requirement already satisfied: setuptools in c:\\users\\admin\\anaconda\\lib\\site-packages (from tensorflow-intel==2.16.1->tensorflow) (68.2.2)\n",
      "Requirement already satisfied: six>=1.12.0 in c:\\users\\admin\\anaconda\\lib\\site-packages (from tensorflow-intel==2.16.1->tensorflow) (1.16.0)\n",
      "Requirement already satisfied: termcolor>=1.1.0 in c:\\users\\admin\\anaconda\\lib\\site-packages (from tensorflow-intel==2.16.1->tensorflow) (2.4.0)\n",
      "Requirement already satisfied: typing-extensions>=3.6.6 in c:\\users\\admin\\anaconda\\lib\\site-packages (from tensorflow-intel==2.16.1->tensorflow) (4.9.0)\n",
      "Requirement already satisfied: wrapt>=1.11.0 in c:\\users\\admin\\anaconda\\lib\\site-packages (from tensorflow-intel==2.16.1->tensorflow) (1.14.1)\n",
      "Requirement already satisfied: grpcio<2.0,>=1.24.3 in c:\\users\\admin\\anaconda\\lib\\site-packages (from tensorflow-intel==2.16.1->tensorflow) (1.63.0)\n",
      "Requirement already satisfied: tensorboard<2.17,>=2.16 in c:\\users\\admin\\anaconda\\lib\\site-packages (from tensorflow-intel==2.16.1->tensorflow) (2.16.2)\n",
      "Requirement already satisfied: keras>=3.0.0 in c:\\users\\admin\\anaconda\\lib\\site-packages (from tensorflow-intel==2.16.1->tensorflow) (3.3.3)\n",
      "Requirement already satisfied: tensorflow-io-gcs-filesystem>=0.23.1 in c:\\users\\admin\\anaconda\\lib\\site-packages (from tensorflow-intel==2.16.1->tensorflow) (0.31.0)\n",
      "Requirement already satisfied: numpy<2.0.0,>=1.23.5 in c:\\users\\admin\\anaconda\\lib\\site-packages (from tensorflow-intel==2.16.1->tensorflow) (1.26.4)\n",
      "Requirement already satisfied: wheel<1.0,>=0.23.0 in c:\\users\\admin\\anaconda\\lib\\site-packages (from astunparse>=1.6.0->tensorflow-intel==2.16.1->tensorflow) (0.41.2)\n",
      "Requirement already satisfied: rich in c:\\users\\admin\\anaconda\\lib\\site-packages (from keras>=3.0.0->tensorflow-intel==2.16.1->tensorflow) (13.3.5)\n",
      "Requirement already satisfied: namex in c:\\users\\admin\\anaconda\\lib\\site-packages (from keras>=3.0.0->tensorflow-intel==2.16.1->tensorflow) (0.0.8)\n",
      "Requirement already satisfied: optree in c:\\users\\admin\\anaconda\\lib\\site-packages (from keras>=3.0.0->tensorflow-intel==2.16.1->tensorflow) (0.11.0)\n",
      "Requirement already satisfied: charset-normalizer<4,>=2 in c:\\users\\admin\\anaconda\\lib\\site-packages (from requests<3,>=2.21.0->tensorflow-intel==2.16.1->tensorflow) (2.0.4)\n",
      "Requirement already satisfied: idna<4,>=2.5 in c:\\users\\admin\\anaconda\\lib\\site-packages (from requests<3,>=2.21.0->tensorflow-intel==2.16.1->tensorflow) (3.4)\n",
      "Requirement already satisfied: urllib3<3,>=1.21.1 in c:\\users\\admin\\anaconda\\lib\\site-packages (from requests<3,>=2.21.0->tensorflow-intel==2.16.1->tensorflow) (2.0.7)\n",
      "Requirement already satisfied: certifi>=2017.4.17 in c:\\users\\admin\\anaconda\\lib\\site-packages (from requests<3,>=2.21.0->tensorflow-intel==2.16.1->tensorflow) (2024.2.2)\n",
      "Requirement already satisfied: markdown>=2.6.8 in c:\\users\\admin\\anaconda\\lib\\site-packages (from tensorboard<2.17,>=2.16->tensorflow-intel==2.16.1->tensorflow) (3.4.1)\n",
      "Requirement already satisfied: tensorboard-data-server<0.8.0,>=0.7.0 in c:\\users\\admin\\anaconda\\lib\\site-packages (from tensorboard<2.17,>=2.16->tensorflow-intel==2.16.1->tensorflow) (0.7.2)\n",
      "Requirement already satisfied: werkzeug>=1.0.1 in c:\\users\\admin\\anaconda\\lib\\site-packages (from tensorboard<2.17,>=2.16->tensorflow-intel==2.16.1->tensorflow) (2.2.3)\n",
      "Requirement already satisfied: MarkupSafe>=2.1.1 in c:\\users\\admin\\anaconda\\lib\\site-packages (from werkzeug>=1.0.1->tensorboard<2.17,>=2.16->tensorflow-intel==2.16.1->tensorflow) (2.1.3)\n",
      "Requirement already satisfied: markdown-it-py<3.0.0,>=2.2.0 in c:\\users\\admin\\anaconda\\lib\\site-packages (from rich->keras>=3.0.0->tensorflow-intel==2.16.1->tensorflow) (2.2.0)\n",
      "Requirement already satisfied: pygments<3.0.0,>=2.13.0 in c:\\users\\admin\\anaconda\\lib\\site-packages (from rich->keras>=3.0.0->tensorflow-intel==2.16.1->tensorflow) (2.15.1)\n",
      "Requirement already satisfied: mdurl~=0.1 in c:\\users\\admin\\anaconda\\lib\\site-packages (from markdown-it-py<3.0.0,>=2.2.0->rich->keras>=3.0.0->tensorflow-intel==2.16.1->tensorflow) (0.1.0)\n",
      "Note: you may need to restart the kernel to use updated packages.\n"
     ]
    }
   ],
   "source": [
    "pip install tensorflow"
   ]
  },
  {
   "cell_type": "code",
   "execution_count": 2,
   "id": "6d4628e7-d022-4a5d-96a3-85f91f79d46b",
   "metadata": {},
   "outputs": [
    {
     "name": "stdout",
     "output_type": "stream",
     "text": [
      "Python Version: 3.11.7 | packaged by Anaconda, Inc. | (main, Dec 15 2023, 18:05:47) [MSC v.1916 64 bit (AMD64)]\n",
      "TensorFlow Version 2.16.1\n"
     ]
    }
   ],
   "source": [
    "import pandas as pd\n",
    "import numpy as np\n",
    "import matplotlib.pyplot as plt\n",
    "import tensorflow as tf\n",
    "import os\n",
    "from PIL import Image\n",
    "\n",
    "from tensorflow import keras\n",
    "from tensorflow.keras.models import Sequential\n",
    "from tensorflow.keras.callbacks import EarlyStopping\n",
    "from tensorflow.keras.preprocessing.image import load_img, ImageDataGenerator \n",
    "from tensorflow.keras.layers import Conv2D, MaxPooling2D, ZeroPadding2D, GlobalAveragePooling1D, AveragePooling2D, Dense, Dropout, Flatten, BatchNormalization, Input, Activation, Add\n",
    "\n",
    "from sklearn.model_selection import train_test_split\n",
    "\n",
    "import warnings\n",
    "warnings.filterwarnings(\"ignore\")\n",
    "\n",
    "import sys\n",
    "print(\"Python Version:\", sys.version)\n",
    "print(\"TensorFlow Version\", tf.__version__)"
   ]
  },
  {
   "cell_type": "code",
   "execution_count": 3,
   "id": "95fee8fd-90fc-425e-be50-3ee91f65785a",
   "metadata": {},
   "outputs": [
    {
     "name": "stdout",
     "output_type": "stream",
     "text": [
      "No GPU devices found!\n",
      "\n",
      "GPU is not available\n"
     ]
    }
   ],
   "source": [
    "# using GPU for faster processing\n",
    "\n",
    "phys_devices = tf.config.list_physical_devices('GPU')\n",
    "if len(phys_devices) > 0:\n",
    "    # use the first visible GPU\n",
    "    tf.config.experimental.set_visible_devices(phys_devices[0], 'GPU')\n",
    "    print(f\"Using GPU device {phys_devices[0].name}\\n\")\n",
    "else:\n",
    "    print(\"No GPU devices found!\\n\")\n",
    "\n",
    "if tf.config.list_physical_devices('GPU'):\n",
    "    print(\"GPU is available\")\n",
    "else:\n",
    "    print(\"GPU is not available\")"
   ]
  },
  {
   "cell_type": "code",
   "execution_count": 4,
   "id": "88471000-fca3-4d25-ba91-ce0adc69ffa2",
   "metadata": {},
   "outputs": [],
   "source": [
    "# load furniture data from CSV files\n",
    "furniture_df = pd.read_csv(\"furniture_data.csv\")\n",
    "furniture_sliding_df = pd.read_csv(\"furniture_sliding_data.csv\")\n",
    "\n",
    "# combine both datasets into a single dataframe\n",
    "full_furniture_df = pd.concat([furniture_df, furniture_sliding_df], axis=0)"
   ]
  },
  {
   "cell_type": "code",
   "execution_count": 5,
   "id": "320446b6-e89f-4f42-a555-f6d1e93db6f4",
   "metadata": {},
   "outputs": [],
   "source": [
    "dev, test = train_test_split(furniture_df, train_size = 0.85, shuffle = True, random_state = 333)"
   ]
  },
  {
   "cell_type": "code",
   "execution_count": 6,
   "id": "50fd902c-8541-4d25-8a3d-0f8830c41cc1",
   "metadata": {},
   "outputs": [
    {
     "data": {
      "text/plain": [
       "((76571, 3), (13513, 3))"
      ]
     },
     "execution_count": 6,
     "metadata": {},
     "output_type": "execute_result"
    }
   ],
   "source": [
    "dev.shape, test.shape"
   ]
  },
  {
   "cell_type": "code",
   "execution_count": 7,
   "id": "c12e2d1d-551c-43d0-937c-eaab00041337",
   "metadata": {},
   "outputs": [],
   "source": [
    "# define batch size and image dimensions\n",
    "BATCH_SIZE = 32\n",
    "IMG_WIDTH  = 224\n",
    "IMG_HEIGHT = 224\n",
    "\n",
    "# data augmentation for training\n",
    "train_datagen = ImageDataGenerator(rescale = 1/255.0,\n",
    "                                width_shift_range = 0.05,\n",
    "                                height_shift_range = 0.05,\n",
    "                                rotation_range = 40,\n",
    "                                zoom_range = 0.1,\n",
    "                                shear_range = 0.2,\n",
    "                                brightness_range = [0.5, 1.0],\n",
    "                                validation_split = 0.15, \n",
    "                                fill_mode = 'nearest',\n",
    "                                horizontal_flip = True,)\n",
    "\n",
    "# data normalization for testing\n",
    "test_datagen = ImageDataGenerator(rescale = 1/255.0)"
   ]
  },
  {
   "cell_type": "code",
   "execution_count": 8,
   "id": "311e3796-9bdf-450b-a8f5-1bc306da04e7",
   "metadata": {},
   "outputs": [
    {
     "name": "stdout",
     "output_type": "stream",
     "text": [
      "Found 0 validated image filenames belonging to 0 classes.\n",
      "Found 0 validated image filenames belonging to 0 classes.\n",
      "Found 0 validated image filenames belonging to 0 classes.\n"
     ]
    }
   ],
   "source": [
    "# create data generators for training, validation, and testing\n",
    "train_ds = train_datagen.flow_from_dataframe(\n",
    "    dataframe = dev,\n",
    "    x_col = 'Image_Path',\n",
    "    y_col = 'Furniture_Category',\n",
    "    color_mode = 'rgb',\n",
    "    class_mode = 'categorical',\n",
    "    target_size = (IMG_WIDTH, IMG_HEIGHT),\n",
    "    batch_size = BATCH_SIZE,\n",
    "    shuffle = True,\n",
    "    seed = 42,\n",
    "    subset = 'training'\n",
    ")\n",
    "\n",
    "val_ds = train_datagen.flow_from_dataframe(\n",
    "    dataframe = dev,\n",
    "    x_col = 'Image_Path',\n",
    "    y_col = 'Furniture_Category',\n",
    "    color_mode = 'rgb',\n",
    "    class_mode = 'categorical',\n",
    "    target_size = (IMG_WIDTH, IMG_HEIGHT),\n",
    "    batch_size = BATCH_SIZE,\n",
    "    shuffle = True,\n",
    "    seed = 42,\n",
    "    subset = 'validation'\n",
    ")\n",
    "\n",
    "test_ds = test_datagen.flow_from_dataframe(\n",
    "    dataframe = test,\n",
    "    x_col = 'Image_Path',\n",
    "    y_col = 'Furniture_Category',\n",
    "    color_mode = 'rgb',\n",
    "    target_size = (IMG_WIDTH, IMG_HEIGHT),\n",
    "    class_mode = 'categorical',\n",
    "    batch_size = BATCH_SIZE,\n",
    "    shuffle = False  # maintain order for testing\n",
    ")"
   ]
  },
  {
   "cell_type": "code",
   "execution_count": 9,
   "id": "4f888f69-dd63-4263-bb4c-f4afc2aaeead",
   "metadata": {},
   "outputs": [
    {
     "name": "stdout",
     "output_type": "stream",
     "text": [
      "{}\n"
     ]
    }
   ],
   "source": [
    "print(train_ds.class_indices)"
   ]
  },
  {
   "cell_type": "code",
   "execution_count": 10,
   "id": "dbcbc82d-f7ca-4a04-bccf-7c48d35c2637",
   "metadata": {},
   "outputs": [
    {
     "name": "stdout",
     "output_type": "stream",
     "text": [
      "(0, 224, 224, 3)\n",
      "(0, 0)\n"
     ]
    },
    {
     "ename": "IndexError",
     "evalue": "index 0 is out of bounds for axis 0 with size 0",
     "output_type": "error",
     "traceback": [
      "\u001b[1;31m---------------------------------------------------------------------------\u001b[0m",
      "\u001b[1;31mIndexError\u001b[0m                                Traceback (most recent call last)",
      "Cell \u001b[1;32mIn[10], line 8\u001b[0m\n\u001b[0;32m      5\u001b[0m \u001b[38;5;28mprint\u001b[39m(batchY\u001b[38;5;241m.\u001b[39mshape)\n\u001b[0;32m      7\u001b[0m \u001b[38;5;28;01mfor\u001b[39;00m i \u001b[38;5;129;01min\u001b[39;00m \u001b[38;5;28mrange\u001b[39m(\u001b[38;5;241m3\u001b[39m):\n\u001b[1;32m----> 8\u001b[0m     image \u001b[38;5;241m=\u001b[39m batchX[i]\n\u001b[0;32m      9\u001b[0m     label \u001b[38;5;241m=\u001b[39m batchY[i]\n\u001b[0;32m     11\u001b[0m     \u001b[38;5;28mprint\u001b[39m(\u001b[38;5;124m'\u001b[39m\u001b[38;5;124mLabel: \u001b[39m\u001b[38;5;124m'\u001b[39m, label)\n",
      "\u001b[1;31mIndexError\u001b[0m: index 0 is out of bounds for axis 0 with size 0"
     ]
    }
   ],
   "source": [
    "# Check image\n",
    "batchX, batchY = train_ds.__next__()\n",
    "\n",
    "print(batchX.shape)\n",
    "print(batchY.shape)\n",
    "\n",
    "for i in range(3):\n",
    "    image = batchX[i]\n",
    "    label = batchY[i]\n",
    "\n",
    "    print('Label: ', label)\n",
    "\n",
    "    plt.imshow(image)\n",
    "    plt.show()"
   ]
  },
  {
   "cell_type": "code",
   "execution_count": null,
   "id": "41b8a2cd-6b6c-4b0b-9291-ac645261d34e",
   "metadata": {},
   "outputs": [],
   "source": [
    "import tensorflow as tf\n",
    "\n",
    "def identity_block(x, filters):\n",
    "    x_skip = x\n",
    "    \n",
    "    # first layer\n",
    "    x = tf.keras.layers.Conv2D(filters[0], kernel_size = (1, 1), strides = (1, 1), padding = 'valid')(x)\n",
    "    x = tf.keras.layers.Activation('relu')(x)\n",
    "    x = tf.keras.layers.BatchNormalization()(x)\n",
    "\n",
    "    # second layer\n",
    "    x = tf.keras.layers.Conv2D(filters[1], kernel_size = (3, 3), strides = (1, 1), padding = 'same')(x)\n",
    "    x = tf.keras.layers.Activation('relu')(x)\n",
    "    x = tf.keras.layers.BatchNormalization()(x)\n",
    "\n",
    "    # third layer\n",
    "    x = tf.keras.layers.Conv2D(filters[2], kernel_size = (1, 1), strides = (1, 1), padding = 'valid')(x)\n",
    "    x = tf.keras.layers.BatchNormalization()(x)\n",
    "\n",
    "    # input tensor (identity mapping)\n",
    "    x = tf.keras.layers.Add()([x, x_skip])\n",
    "    x = tf.keras.layers.Activation('relu')(x)\n",
    "\n",
    "    return x\n",
    "\n",
    "def convolutional_block(x, filters, strides = (2, 2)):\n",
    "    x_skip = x\n",
    "\n",
    "    # first convolutional layer\n",
    "    x = tf.keras.layers.Conv2D(filters[0], kernel_size = (1, 1), strides = strides, padding = 'valid')(x)\n",
    "    x = tf.keras.layers.Activation('relu')(x)\n",
    "    x = tf.keras.layers.BatchNormalization()(x)\n",
    "\n",
    "    # second convolutional layer\n",
    "    x = tf.keras.layers.Conv2D(filters[1], kernel_size = (3, 3), strides = (1, 1), padding = 'same')(x)\n",
    "    x = tf.keras.layers.Activation('relu')(x)\n",
    "    x = tf.keras.layers.BatchNormalization()(x)\n",
    "\n",
    "    # third convolutional layer\n",
    "    x = tf.keras.layers.Conv2D(filters[2], kernel_size = (1, 1), strides = (1, 1), padding = 'valid')(x)\n",
    "    x = tf.keras.layers.BatchNormalization()(x)\n",
    "\n",
    "    # projection shortcut\n",
    "    x_skip = tf.keras.layers.Conv2D(filters[2], kernel_size = (1, 1), strides = strides, padding = 'valid')(x_skip)\n",
    "    x_skip = tf.keras.layers.BatchNormalization()(x_skip)\n",
    "\n",
    "    # input tensor and projection shortcut\n",
    "    x = tf.keras.layers.Add()([x, x_skip])\n",
    "    x = tf.keras.layers.Activation('relu')(x)\n",
    "\n",
    "    return x\n",
    "\n",
    "def ResNet(shape = (224, 224, 3), classes = 1000, stages = [3, 4, 6, 3], model_name = \"ResNet\"):\n",
    "    # input layer\n",
    "    x_input = tf.keras.layers.Input(shape)\n",
    "    x = tf.keras.layers.ZeroPadding2D(padding = (3, 3))(x_input)\n",
    "\n",
    "    # stage 1\n",
    "    x = tf.keras.layers.Conv2D(64, kernel_size = (7, 7), strides = (2, 2), padding = 'valid')(x)\n",
    "    x = tf.keras.layers.Activation('relu')(x)\n",
    "    x = tf.keras.layers.BatchNormalization()(x)\n",
    "    x = tf.keras.layers.MaxPooling2D(pool_size = (3, 3), strides = (2, 2), padding = 'same')(x)\n",
    "\n",
    "    # stage 2\n",
    "    x = convolutional_block(x, filters = [64, 64, 256], strides = (1, 1))\n",
    "    for _ in range(stages[0] - 1):\n",
    "        x = identity_block(x, filters = [64, 64, 256])\n",
    "\n",
    "    # stage 3\n",
    "    x = convolutional_block(x, filters = [128, 128, 512])\n",
    "    for _ in range(stages[1] - 1):\n",
    "        x = identity_block(x, filters = [128, 128, 512])\n",
    "\n",
    "    # stage 4\n",
    "    x = convolutional_block(x, filters = [256, 256, 1024])\n",
    "    for _ in range(stages[2] - 1):\n",
    "        x = identity_block(x, filters = [256, 256, 1024])\n",
    "\n",
    "    # stage 5\n",
    "    x = convolutional_block(x, filters = [512, 512, 2048])\n",
    "    for _ in range(stages[3] - 1):\n",
    "        x = identity_block(x, filters = [512, 512, 2048])\n",
    "\n",
    "    # output layer\n",
    "    x = tf.keras.layers.GlobalAveragePooling2D()(x)\n",
    "    x = tf.keras.layers.Dense(classes, activation = 'softmax')(x)\n",
    "\n",
    "    model = tf.keras.models.Model(inputs = x_input, outputs = x, name = model_name)\n",
    "    return model\n",
    "\n",
    "\n",
    "def ResNet152(shape, classes):\n",
    "    return ResNet(shape, classes, stages=[3, 8, 36, 3], model_name=\"ResNet152\")\n",
    "\n",
    "\n",
    "# create ResNet152 model\n",
    "resnet152_model = ResNet152(shape = (224, 224, 3), classes = 102)\n",
    "resnet152_model.summary()\n"
   ]
  },
  {
   "cell_type": "code",
   "execution_count": null,
   "id": "c347080b-450c-4785-a3a5-f76d67a48b5e",
   "metadata": {},
   "outputs": [],
   "source": [
    "# get unique furniture categories from the dataframe\n",
    "cat_folders = furniture_df[\"Furniture_Category\"].unique()\n",
    "print(cat_folders)\n",
    "\n",
    "# calculate the total number of unique categories\n",
    "num_classes = furniture_df[\"Furniture_Category\"].nunique()\n",
    "print(\"Number of categories:\", num_classes)"
   ]
  },
  {
   "cell_type": "code",
   "execution_count": null,
   "id": "b65ab510-49cf-4f11-a5af-5e0ba5a03308",
   "metadata": {},
   "outputs": [],
   "source": [
    "# custom CNN model\n",
    "\n",
    "model = Sequential([\n",
    "    # first convolutional block\n",
    "    # input layer: 32 filters, 3x3 kernel size, 'same' padding, ReLU activation\n",
    "    Conv2D(32, kernel_size = (3,3), padding = 'same', activation = 'relu', input_shape = (IMG_WIDTH, IMG_HEIGHT, 3)),\n",
    "    MaxPooling2D(pool_size = (2,2), strides = (2,2)),\n",
    "\n",
    "    # second convolutional block\n",
    "    Conv2D(64, kernel_size = (3,3), padding = 'same', activation = 'relu'),\n",
    "    MaxPooling2D(pool_size = (2,2), strides = (2,2)),\n",
    "\n",
    "    # third convolutional block\n",
    "    Conv2D(64, kernel_size = (3,3), padding = 'same', activation = 'relu'),\n",
    "    MaxPooling2D(pool_size = (2,2), strides = (2,2)),\n",
    "\n",
    "    Flatten(),\n",
    "    Dropout(0.5),\n",
    "    Dense(units = 64, activation = 'relu'),\n",
    "\n",
    "    # output layer\n",
    "    Dense(num_classes, activation = 'softmax')\n",
    "])\n",
    "\n",
    "model.summary()"
   ]
  },
  {
   "cell_type": "code",
   "execution_count": null,
   "id": "bd2e2a3c-26f8-4073-b533-241deea3ccba",
   "metadata": {},
   "outputs": [],
   "source": [
    "from keras.optimizers import Adam\n",
    "from keras.callbacks import EarlyStopping\n",
    "from keras.metrics import CategoricalAccuracy, BinaryAccuracy\n",
    "from keras.losses import CategoricalCrossentropy, BinaryCrossentropy\n",
    "\n",
    "# Adam configuration\n",
    "opt = tf.keras.optimizers.Adam(learning_rate = 0.001)\n",
    "model.compile(optimizer = opt, loss='categorical_crossentropy', metrics=['accuracy'])\n",
    "\n",
    "# Early stopping callback configuration\n",
    "early_stopping_callback = EarlyStopping(\n",
    "    monitor = 'val_accuracy',  # monitor validation accuracy\n",
    "    patience = 15,  # stop if no improvement after 10 epochs\n",
    "    restore_best_weights = True,   # restore weights with best performance\n",
    "    verbose = 1,\n",
    "    min_delta = 0.0001,\n",
    ")\n",
    "\n",
    "# Train the model\n",
    "history = model.fit(train_ds, validation_data = val_ds, epochs = 5, batch_size = BATCH_SIZE, callbacks = [early_stopping_callback])"
   ]
  },
  {
   "cell_type": "code",
   "execution_count": null,
   "id": "0f14aeaf-8867-4ad9-b112-f1f7a301f04f",
   "metadata": {},
   "outputs": [],
   "source": [
    "# line Chart for showing loss over training\n",
    "\n",
    "plt.plot(history.history['loss'])\n",
    "plt.plot(history.history['val_loss'])\n",
    "plt.title('model loss')\n",
    "plt.legend(['train', 'val'], loc = 'upper left')\n",
    "plt.ylabel('loss')\n",
    "plt.xlabel('epoch')\n",
    "plt.show()\n",
    "\n",
    "# line chart for showing accuracy over training\n",
    "\n",
    "plt.figure()\n",
    "plt.plot(history.history['accuracy'])\n",
    "plt.plot(history.history['val_accuracy'])\n",
    "plt.title('model accuracy')\n",
    "plt.ylabel('accuracy')\n",
    "plt.xlabel('epoch')\n",
    "plt.legend(['train', 'val'], loc = 'upper left')\n",
    "plt.show()"
   ]
  },
  {
   "cell_type": "code",
   "execution_count": null,
   "id": "c7a63012-506d-431d-a57a-a325d5204618",
   "metadata": {},
   "outputs": [],
   "source": [
    "# Test final accuracy\n",
    "batchXTest, batchYTest = val_ds.__next__()\n",
    "\n",
    "score = model.evaluate(batchXTest, batchYTest)"
   ]
  },
  {
   "cell_type": "code",
   "execution_count": null,
   "id": "ee0ec1dd-3829-4d30-a514-aa7600236a70",
   "metadata": {},
   "outputs": [],
   "source": [
    "tf.keras.utils.plot_model(model, show_shapes = True, show_layer_names = True)"
   ]
  },
  {
   "cell_type": "code",
   "execution_count": null,
   "id": "9b1965a4-16e7-40ac-9670-4c00cc0cbec1",
   "metadata": {},
   "outputs": [],
   "source": [
    "model.save('../TrainingModels/furniture_cat_classification_model.h5')"
   ]
  },
  {
   "cell_type": "code",
   "execution_count": null,
   "id": "8a184ea6-270f-4761-98c4-ba7b865419af",
   "metadata": {},
   "outputs": [],
   "source": []
  }
 ],
 "metadata": {
  "kernelspec": {
   "display_name": "Python 3 (ipykernel)",
   "language": "python",
   "name": "python3"
  },
  "language_info": {
   "codemirror_mode": {
    "name": "ipython",
    "version": 3
   },
   "file_extension": ".py",
   "mimetype": "text/x-python",
   "name": "python",
   "nbconvert_exporter": "python",
   "pygments_lexer": "ipython3",
   "version": "3.11.7"
  }
 },
 "nbformat": 4,
 "nbformat_minor": 5
}
