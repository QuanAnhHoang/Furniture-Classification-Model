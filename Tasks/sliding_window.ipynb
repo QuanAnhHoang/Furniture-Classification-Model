{
 "cells": [
  {
   "cell_type": "markdown",
   "metadata": {},
   "source": [
    "# Sliding Window Notebook"
   ]
  },
  {
   "cell_type": "markdown",
   "metadata": {},
   "source": [
    "### 1. Data Cleaning and Augmentation: Identify furniture categories with less than 1000 images, then calculate the necessary increase factor to reach a target of 5000 images per category."
   ]
  },
  {
   "cell_type": "markdown",
   "metadata": {},
   "source": [
    "### 2. Image Processing: The sliding_window function uses a smart approach to generate multiple cropped images from a single input image. It iteratively adjusts the window size and step to achieve the desired number of windows."
   ]
  },
  {
   "cell_type": "markdown",
   "metadata": {},
   "source": [
    "### 3. File Organization: Create a structured directory hierarchy (../CrawledData/{image_category}/{image_interior_type}/) to store the cropped images, which is crucial for data organization."
   ]
  },
  {
   "cell_type": "markdown",
   "metadata": {},
   "source": [
    "### 4. Analysis Functions: get_furiture_categories and get_category_info provide useful functionalities for analyzing the structure of the dataset."
   ]
  },
  {
   "cell_type": "code",
   "execution_count": 1,
   "metadata": {},
   "outputs": [],
   "source": [
    "import os\n",
    "import cv2\n",
    "import math\n",
    "import pandas as pd"
   ]
  },
  {
   "cell_type": "code",
   "execution_count": 2,
   "metadata": {},
   "outputs": [],
   "source": [
    "# Load the data\n",
    "furniture_df = pd.read_csv(\"../furniture_data.csv\")"
   ]
  },
  {
   "cell_type": "code",
   "execution_count": 3,
   "metadata": {},
   "outputs": [],
   "source": [
    "# Create combined category type\n",
    "furniture_df['Furniture_Category_Type'] = furniture_df['Furniture_Category'] + '-' + furniture_df['Furniture_Type']"
   ]
  },
  {
   "cell_type": "code",
   "execution_count": 4,
   "metadata": {},
   "outputs": [],
   "source": [
    "# Calculate value counts and filter categories below 1000\n",
    "value_counts = furniture_df['Furniture_Category_Type'].value_counts()\n",
    "categories_below_1000 = value_counts[value_counts < 1000].index"
   ]
  },
  {
   "cell_type": "code",
   "execution_count": 5,
   "metadata": {},
   "outputs": [],
   "source": [
    "# Filter the DataFrame to only include categories below 1000\n",
    "furniture_below_1000_df = furniture_df[furniture_df['Furniture_Category_Type'].isin(categories_below_1000)].copy()"
   ]
  },
  {
   "cell_type": "code",
   "execution_count": 6,
   "metadata": {},
   "outputs": [],
   "source": [
    "# Calculate increase factors directly within the DataFrame\n",
    "furniture_below_1000_df['Increase_Factor'] = (5000 // furniture_below_1000_df['Furniture_Category_Type'].map(value_counts)).fillna(1).astype(int)"
   ]
  },
  {
   "cell_type": "code",
   "execution_count": 7,
   "metadata": {},
   "outputs": [
    {
     "name": "stdout",
     "output_type": "stream",
     "text": [
      "      Furniture_Category Furniture_Type  \\\n",
      "0                   beds          Asian   \n",
      "1                   beds          Asian   \n",
      "2                   beds          Asian   \n",
      "3                   beds          Asian   \n",
      "4                   beds          Asian   \n",
      "...                  ...            ...   \n",
      "90079             tables      Victorian   \n",
      "90080             tables      Victorian   \n",
      "90081             tables      Victorian   \n",
      "90082             tables      Victorian   \n",
      "90083             tables      Victorian   \n",
      "\n",
      "                                              Image_Path  \\\n",
      "0      ../Furniture_Data\\beds\\Asian\\19726asian-daybed...   \n",
      "1      ../Furniture_Data\\beds\\Asian\\20027asian-canopy...   \n",
      "2      ../Furniture_Data\\beds\\Asian\\20109asian-panel-...   \n",
      "3      ../Furniture_Data\\beds\\Asian\\20508asian-platfo...   \n",
      "4      ../Furniture_Data\\beds\\Asian\\20750asian-comfor...   \n",
      "...                                                  ...   \n",
      "90079  ../Furniture_Data\\tables\\Victorian\\5victorian-...   \n",
      "90080  ../Furniture_Data\\tables\\Victorian\\6victorian-...   \n",
      "90081  ../Furniture_Data\\tables\\Victorian\\7victorian-...   \n",
      "90082  ../Furniture_Data\\tables\\Victorian\\8victorian-...   \n",
      "90083  ../Furniture_Data\\tables\\Victorian\\9victorian-...   \n",
      "\n",
      "      Furniture_Category_Type  Increase_Factor  \n",
      "0                  beds-Asian               96  \n",
      "1                  beds-Asian               96  \n",
      "2                  beds-Asian               96  \n",
      "3                  beds-Asian               96  \n",
      "4                  beds-Asian               96  \n",
      "...                       ...              ...  \n",
      "90079        tables-Victorian              108  \n",
      "90080        tables-Victorian              108  \n",
      "90081        tables-Victorian              108  \n",
      "90082        tables-Victorian              108  \n",
      "90083        tables-Victorian              108  \n",
      "\n",
      "[15668 rows x 5 columns]\n"
     ]
    }
   ],
   "source": [
    "print(furniture_below_1000_df)"
   ]
  },
  {
   "cell_type": "code",
   "execution_count": 8,
   "metadata": {},
   "outputs": [
    {
     "name": "stdout",
     "output_type": "stream",
     "text": [
      "     Furniture_Category Furniture_Type  \\\n",
      "3242               beds   Scandinavian   \n",
      "3243               beds   Scandinavian   \n",
      "3244               beds   Scandinavian   \n",
      "3245               beds   Scandinavian   \n",
      "3246               beds   Scandinavian   \n",
      "3247               beds   Scandinavian   \n",
      "3248               beds   Scandinavian   \n",
      "3249               beds   Scandinavian   \n",
      "3250               beds   Scandinavian   \n",
      "3251               beds   Scandinavian   \n",
      "3252               beds   Scandinavian   \n",
      "3253               beds   Scandinavian   \n",
      "3254               beds   Scandinavian   \n",
      "3255               beds   Scandinavian   \n",
      "3256               beds   Scandinavian   \n",
      "3257               beds   Scandinavian   \n",
      "3258               beds   Scandinavian   \n",
      "3259               beds   Scandinavian   \n",
      "3260               beds   Scandinavian   \n",
      "3261               beds   Scandinavian   \n",
      "3262               beds   Scandinavian   \n",
      "3263               beds   Scandinavian   \n",
      "3264               beds   Scandinavian   \n",
      "3265               beds   Scandinavian   \n",
      "3266               beds   Scandinavian   \n",
      "3267               beds   Scandinavian   \n",
      "3268               beds   Scandinavian   \n",
      "3269               beds   Scandinavian   \n",
      "3270               beds   Scandinavian   \n",
      "3271               beds   Scandinavian   \n",
      "3272               beds   Scandinavian   \n",
      "3273               beds   Scandinavian   \n",
      "3274               beds   Scandinavian   \n",
      "\n",
      "                                             Image_Path  \\\n",
      "3242  ../Furniture_Data\\beds\\Scandinavian\\2627scandi...   \n",
      "3243  ../Furniture_Data\\beds\\Scandinavian\\2628scandi...   \n",
      "3244  ../Furniture_Data\\beds\\Scandinavian\\2654scandi...   \n",
      "3245  ../Furniture_Data\\beds\\Scandinavian\\2802scandi...   \n",
      "3246  ../Furniture_Data\\beds\\Scandinavian\\2860scandi...   \n",
      "3247  ../Furniture_Data\\beds\\Scandinavian\\3056scandi...   \n",
      "3248  ../Furniture_Data\\beds\\Scandinavian\\3106scandi...   \n",
      "3249  ../Furniture_Data\\beds\\Scandinavian\\3373scandi...   \n",
      "3250  ../Furniture_Data\\beds\\Scandinavian\\3480scandi...   \n",
      "3251  ../Furniture_Data\\beds\\Scandinavian\\3488scandi...   \n",
      "3252  ../Furniture_Data\\beds\\Scandinavian\\3489scandi...   \n",
      "3253  ../Furniture_Data\\beds\\Scandinavian\\3503scandi...   \n",
      "3254  ../Furniture_Data\\beds\\Scandinavian\\4850scandi...   \n",
      "3255  ../Furniture_Data\\beds\\Scandinavian\\4881scandi...   \n",
      "3256  ../Furniture_Data\\beds\\Scandinavian\\4904scandi...   \n",
      "3257  ../Furniture_Data\\beds\\Scandinavian\\5019scandi...   \n",
      "3258  ../Furniture_Data\\beds\\Scandinavian\\5101scandi...   \n",
      "3259  ../Furniture_Data\\beds\\Scandinavian\\5482scandi...   \n",
      "3260  ../Furniture_Data\\beds\\Scandinavian\\8498scandi...   \n",
      "3261  ../Furniture_Data\\beds\\Scandinavian\\9187scandi...   \n",
      "3262  ../Furniture_Data\\beds\\Scandinavian\\9189scandi...   \n",
      "3263  ../Furniture_Data\\beds\\Scandinavian\\9190scandi...   \n",
      "3264  ../Furniture_Data\\beds\\Scandinavian\\9191scandi...   \n",
      "3265  ../Furniture_Data\\beds\\Scandinavian\\9192scandi...   \n",
      "3266  ../Furniture_Data\\beds\\Scandinavian\\9194scandi...   \n",
      "3267  ../Furniture_Data\\beds\\Scandinavian\\9196scandi...   \n",
      "3268  ../Furniture_Data\\beds\\Scandinavian\\9199scandi...   \n",
      "3269  ../Furniture_Data\\beds\\Scandinavian\\9201scandi...   \n",
      "3270  ../Furniture_Data\\beds\\Scandinavian\\9202scandi...   \n",
      "3271  ../Furniture_Data\\beds\\Scandinavian\\9203scandi...   \n",
      "3272  ../Furniture_Data\\beds\\Scandinavian\\9204scandi...   \n",
      "3273  ../Furniture_Data\\beds\\Scandinavian\\9205scandi...   \n",
      "3274  ../Furniture_Data\\beds\\Scandinavian\\9207scandi...   \n",
      "\n",
      "     Furniture_Category_Type  Increase_Factor  \n",
      "3242       beds-Scandinavian              151  \n",
      "3243       beds-Scandinavian              151  \n",
      "3244       beds-Scandinavian              151  \n",
      "3245       beds-Scandinavian              151  \n",
      "3246       beds-Scandinavian              151  \n",
      "3247       beds-Scandinavian              151  \n",
      "3248       beds-Scandinavian              151  \n",
      "3249       beds-Scandinavian              151  \n",
      "3250       beds-Scandinavian              151  \n",
      "3251       beds-Scandinavian              151  \n",
      "3252       beds-Scandinavian              151  \n",
      "3253       beds-Scandinavian              151  \n",
      "3254       beds-Scandinavian              151  \n",
      "3255       beds-Scandinavian              151  \n",
      "3256       beds-Scandinavian              151  \n",
      "3257       beds-Scandinavian              151  \n",
      "3258       beds-Scandinavian              151  \n",
      "3259       beds-Scandinavian              151  \n",
      "3260       beds-Scandinavian              151  \n",
      "3261       beds-Scandinavian              151  \n",
      "3262       beds-Scandinavian              151  \n",
      "3263       beds-Scandinavian              151  \n",
      "3264       beds-Scandinavian              151  \n",
      "3265       beds-Scandinavian              151  \n",
      "3266       beds-Scandinavian              151  \n",
      "3267       beds-Scandinavian              151  \n",
      "3268       beds-Scandinavian              151  \n",
      "3269       beds-Scandinavian              151  \n",
      "3270       beds-Scandinavian              151  \n",
      "3271       beds-Scandinavian              151  \n",
      "3272       beds-Scandinavian              151  \n",
      "3273       beds-Scandinavian              151  \n",
      "3274       beds-Scandinavian              151  \n"
     ]
    }
   ],
   "source": [
    "# Example: Accessing data for \"beds-Scandinavian\"\n",
    "scandinavian_beds_df = furniture_below_1000_df[furniture_below_1000_df['Furniture_Category_Type'] == \"beds-Scandinavian\"]\n",
    "print(scandinavian_beds_df)"
   ]
  },
  {
   "cell_type": "code",
   "execution_count": 9,
   "metadata": {},
   "outputs": [],
   "source": [
    "def sliding_window(image_path, saved_path, window_size=(164, 164), desired_windows=6, overlap=0.5):\n",
    "    \"\"\"Applies a sliding window technique to an image to extract multiple cropped regions.\"\"\"\n",
    "\n",
    "    image = cv2.imread(image_path)\n",
    "    if image is None:\n",
    "        print(f\"Error: Could not read image at {image_path}\")\n",
    "        return\n",
    "\n",
    "    image_height, image_width = image.shape[:2]\n",
    "    image_filename = os.path.splitext(os.path.basename(image_path))[0]\n",
    "\n",
    "    # Calculate step size based on overlap \n",
    "    step_size = int((1 - overlap) * min(window_size)) \n",
    "\n",
    "    # Calculate approximate number of windows in each dimension\n",
    "    n_rows = math.ceil((image_height - window_size[1]) / step_size) + 1\n",
    "    n_cols = math.ceil((image_width - window_size[0]) / step_size) + 1\n",
    "\n",
    "    # Adjust step size to get closer to desired number of windows\n",
    "    total_windows = n_rows * n_cols\n",
    "    while total_windows < desired_windows:\n",
    "        step_size -= 1\n",
    "        n_rows = math.ceil((image_height - window_size[1]) / step_size) + 1\n",
    "        n_cols = math.ceil((image_width - window_size[0]) / step_size) + 1\n",
    "        total_windows = n_rows * n_cols\n",
    "\n",
    "    # Create output directory\n",
    "    os.makedirs(saved_path, exist_ok=True) \n",
    "\n",
    "    window_index = 0\n",
    "    for y in range(0, image_height - window_size[1] + 1, step_size):\n",
    "        for x in range(0, image_width - window_size[0] + 1, step_size):\n",
    "            window = image[y:y + window_size[1], x:x + window_size[0]]\n",
    "            window_filename = os.path.join(saved_path, f\"{image_filename}_{window_index}.jpg\")\n",
    "            cv2.imwrite(window_filename, window)\n",
    "            window_index += 1\n",
    "\n",
    "\n",
    "# --- DataFrame Iteration --- \n",
    "for index, row in furniture_below_1000_df.iterrows():\n",
    "    image_path = row['Image_Path']\n",
    "    image_category = row['Furniture_Category']\n",
    "    image_interior_type = row['Furniture_Type']\n",
    "    increase_factors = row['Increase_Factor']\n",
    "    \n",
    "    saved_parent_path = f\"../CrawledData/{image_category}/{image_interior_type}/\"\n",
    "\n",
    "    sliding_window(\n",
    "        image_path=image_path, \n",
    "        saved_path=saved_parent_path,\n",
    "        desired_windows=increase_factors, \n",
    "        overlap=0.5 # Can adjust this value\n",
    "    )"
   ]
  },
  {
   "cell_type": "code",
   "execution_count": 10,
   "metadata": {},
   "outputs": [],
   "source": [
    "# Define the root directory\n",
    "base_dataset_dir = \"../CrawledData\""
   ]
  },
  {
   "cell_type": "code",
   "execution_count": 11,
   "metadata": {},
   "outputs": [],
   "source": [
    "# Function to get all subdirectory names within a directory\n",
    "def get_subdirectories(directory):\n",
    "    return [item for item in os.listdir(directory) if os.path.isdir(os.path.join(directory, item))]"
   ]
  },
  {
   "cell_type": "code",
   "execution_count": 12,
   "metadata": {},
   "outputs": [],
   "source": [
    "# Function to get category information recursively\n",
    "def get_category_info(root_dir):\n",
    "    folder_info = {}\n",
    "    for category in get_subdirectories(root_dir):\n",
    "        category_path = os.path.join(root_dir, category)\n",
    "        types = get_subdirectories(category_path)\n",
    "        folder_info[category] = {\n",
    "            \"num_types\": len(types),\n",
    "            \"types\": types,\n",
    "            \"image_paths\": [\n",
    "                os.path.join(category_path, type, image) \n",
    "                for type in types \n",
    "                for image in os.listdir(os.path.join(category_path, type)) \n",
    "            ]\n",
    "        }\n",
    "    return folder_info"
   ]
  },
  {
   "cell_type": "code",
   "execution_count": 13,
   "metadata": {},
   "outputs": [],
   "source": [
    "# Get category information \n",
    "category_info = get_category_info(base_dataset_dir)"
   ]
  },
  {
   "cell_type": "code",
   "execution_count": 14,
   "metadata": {},
   "outputs": [
    {
     "name": "stdout",
     "output_type": "stream",
     "text": [
      "Info within each categorical furnitures:\n",
      " - beds: 14 types\n",
      "   Types: ['Asian', 'Beach', 'Craftsman', 'Eclectic', 'Farmhouse', 'Industrial', 'Mediterranean', 'Midcentury', 'Modern', 'Rustic', 'Scandinavian', 'Southwestern', 'Tropical', 'Victorian']\n",
      " - chairs: 12 types\n",
      "   Types: ['Asian', 'Beach', 'Craftsman', 'Eclectic', 'Farmhouse', 'Industrial', 'Mediterranean', 'Rustic', 'Scandinavian', 'Southwestern', 'Tropical', 'Victorian']\n",
      " - dressers: 14 types\n",
      "   Types: ['Asian', 'Beach', 'Craftsman', 'Eclectic', 'Farmhouse', 'Industrial', 'Mediterranean', 'Midcentury', 'Modern', 'Rustic', 'Scandinavian', 'Southwestern', 'Tropical', 'Victorian']\n",
      " - lamps: 6 types\n",
      "   Types: ['Eclectic', 'Midcentury', 'Rustic', 'Scandinavian', 'Southwestern', 'Tropical']\n",
      " - sofas: 15 types\n",
      "   Types: ['Asian', 'Beach', 'Craftsman', 'Eclectic', 'Farmhouse', 'Industrial', 'Mediterranean', 'Midcentury', 'Modern', 'Rustic', 'Scandinavian', 'Southwestern', 'Traditional', 'Tropical', 'Victorian']\n",
      " - tables: 11 types\n",
      "   Types: ['Asian', 'Beach', 'Craftsman', 'Eclectic', 'Mediterranean', 'Rustic', 'Scandinavian', 'Southwestern', 'Transitional', 'Tropical', 'Victorian']\n"
     ]
    }
   ],
   "source": [
    "# Print category information\n",
    "print(\"Info within each categorical furnitures:\")\n",
    "for category, info in category_info.items():\n",
    "    print(f\" - {category}: {info['num_types']} types\")\n",
    "    print(f\"   Types: {info['types']}\")"
   ]
  },
  {
   "cell_type": "code",
   "execution_count": 15,
   "metadata": {},
   "outputs": [],
   "source": [
    "# Construct DataFrame directly from the dictionary\n",
    "df_data = []\n",
    "for category, info in category_info.items():\n",
    "    for image_path in info['image_paths']:\n",
    "        type = os.path.basename(os.path.dirname(image_path))\n",
    "        df_data.append({\n",
    "            \"Furniture_Category\": category,\n",
    "            \"Furniture_Type\": type,\n",
    "            \"Image_Path\": image_path\n",
    "        })"
   ]
  },
  {
   "cell_type": "code",
   "execution_count": 16,
   "metadata": {},
   "outputs": [],
   "source": [
    "furniture_sliding_df = pd.DataFrame(df_data)"
   ]
  },
  {
   "cell_type": "code",
   "execution_count": 17,
   "metadata": {},
   "outputs": [
    {
     "name": "stdout",
     "output_type": "stream",
     "text": [
      "  Furniture_Category Furniture_Type  \\\n",
      "0               beds          Asian   \n",
      "1               beds          Asian   \n",
      "2               beds          Asian   \n",
      "3               beds          Asian   \n",
      "4               beds          Asian   \n",
      "5               beds          Asian   \n",
      "6               beds          Asian   \n",
      "7               beds          Asian   \n",
      "8               beds          Asian   \n",
      "9               beds          Asian   \n",
      "\n",
      "                                          Image_Path  \n",
      "0  ../CrawledData\\beds\\Asian\\19726asian-daybeds_0...  \n",
      "1  ../CrawledData\\beds\\Asian\\19726asian-daybeds_1...  \n",
      "2  ../CrawledData\\beds\\Asian\\19726asian-daybeds_1...  \n",
      "3  ../CrawledData\\beds\\Asian\\19726asian-daybeds_1...  \n",
      "4  ../CrawledData\\beds\\Asian\\19726asian-daybeds_1...  \n",
      "5  ../CrawledData\\beds\\Asian\\19726asian-daybeds_1...  \n",
      "6  ../CrawledData\\beds\\Asian\\19726asian-daybeds_1...  \n",
      "7  ../CrawledData\\beds\\Asian\\19726asian-daybeds_1...  \n",
      "8  ../CrawledData\\beds\\Asian\\19726asian-daybeds_1...  \n",
      "9  ../CrawledData\\beds\\Asian\\19726asian-daybeds_1...  \n"
     ]
    }
   ],
   "source": [
    "# Print the DataFrame head\n",
    "print(furniture_sliding_df.head(10))"
   ]
  },
  {
   "cell_type": "code",
   "execution_count": 18,
   "metadata": {},
   "outputs": [
    {
     "name": "stdout",
     "output_type": "stream",
     "text": [
      "Furniture_Category  Furniture_Type\n",
      "beds                Southwestern      5929\n",
      "                    Eclectic          5632\n",
      "                    Scandinavian      5577\n",
      "                    Mediterranean     4800\n",
      "                    Craftsman         4700\n",
      "                                      ... \n",
      "tables              Scandinavian      4500\n",
      "                    Beach             4446\n",
      "                    Eclectic          3690\n",
      "                    Craftsman         3681\n",
      "                    Transitional      3312\n",
      "Name: count, Length: 72, dtype: int64\n"
     ]
    }
   ],
   "source": [
    "# Print value counts by category and type\n",
    "print(furniture_sliding_df.groupby('Furniture_Category')['Furniture_Type'].value_counts())"
   ]
  },
  {
   "cell_type": "code",
   "execution_count": 19,
   "metadata": {},
   "outputs": [],
   "source": [
    "# Save to CSV\n",
    "furniture_sliding_df.to_csv(\"../furniture_sliding_data.csv\", index=False)"
   ]
  },
  {
   "cell_type": "markdown",
   "metadata": {},
   "source": [
    "# The End of Notebook."
   ]
  }
 ],
 "metadata": {
  "kernelspec": {
   "display_name": "Python 3 (ipykernel)",
   "language": "python",
   "name": "python3"
  },
  "language_info": {
   "codemirror_mode": {
    "name": "ipython",
    "version": 3
   },
   "file_extension": ".py",
   "mimetype": "text/x-python",
   "name": "python",
   "nbconvert_exporter": "python",
   "pygments_lexer": "ipython3",
   "version": "3.11.7"
  }
 },
 "nbformat": 4,
 "nbformat_minor": 4
}
